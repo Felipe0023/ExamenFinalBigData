{
  "nbformat": 4,
  "nbformat_minor": 0,
  "metadata": {
    "colab": {
      "provenance": [],
      "include_colab_link": true
    },
    "kernelspec": {
      "name": "python3",
      "display_name": "Python 3"
    },
    "language_info": {
      "name": "python"
    }
  },
  "cells": [
    {
      "cell_type": "markdown",
      "metadata": {
        "id": "view-in-github",
        "colab_type": "text"
      },
      "source": [
        "<a href=\"https://colab.research.google.com/github/Felipe0023/ExamenFinalBigData/blob/main/productos.ipynb\" target=\"_parent\"><img src=\"https://colab.research.google.com/assets/colab-badge.svg\" alt=\"Open In Colab\"/></a>"
      ]
    },
    {
      "cell_type": "code",
      "execution_count": 1,
      "metadata": {
        "id": "LnwLyHFGEPRR",
        "colab": {
          "base_uri": "https://localhost:8080/"
        },
        "outputId": "1eda060c-8dae-43b8-c5c2-3cf2995842c7"
      },
      "outputs": [
        {
          "output_type": "stream",
          "name": "stdout",
          "text": [
            "Collecting pyspark\n",
            "  Downloading pyspark-3.5.0.tar.gz (316.9 MB)\n",
            "\u001b[2K     \u001b[90m━━━━━━━━━━━━━━━━━━━━━━━━━━━━━━━━━━━━━━━━\u001b[0m \u001b[32m316.9/316.9 MB\u001b[0m \u001b[31m4.6 MB/s\u001b[0m eta \u001b[36m0:00:00\u001b[0m\n",
            "\u001b[?25h  Preparing metadata (setup.py) ... \u001b[?25l\u001b[?25hdone\n",
            "Requirement already satisfied: py4j in /usr/local/lib/python3.10/dist-packages (0.10.9.7)\n",
            "Building wheels for collected packages: pyspark\n",
            "  Building wheel for pyspark (setup.py) ... \u001b[?25l\u001b[?25hdone\n",
            "  Created wheel for pyspark: filename=pyspark-3.5.0-py2.py3-none-any.whl size=317425344 sha256=6fae2ce979362e37b4a607b5dc7468b641e187f9b0590ff63eb6bf73a28ce2d4\n",
            "  Stored in directory: /root/.cache/pip/wheels/41/4e/10/c2cf2467f71c678cfc8a6b9ac9241e5e44a01940da8fbb17fc\n",
            "Successfully built pyspark\n",
            "Installing collected packages: pyspark\n",
            "Successfully installed pyspark-3.5.0\n"
          ]
        }
      ],
      "source": [
        "!pip install pyspark py4j"
      ]
    },
    {
      "cell_type": "code",
      "source": [
        "from pyspark.sql import SparkSession"
      ],
      "metadata": {
        "id": "yjNUSYAYEzAW"
      },
      "execution_count": 2,
      "outputs": []
    },
    {
      "cell_type": "code",
      "source": [
        "spark = SparkSession.builder.appName(\"test_test.csv\").getOrCreate()\n",
        "spark = SparkSession.builder.appName(\"SQL Example\").config(\"sqlOnSpark\", \"true\").getOrCreate()\n",
        "spark = SparkSession.builder.appName(\"Drop Database\").getOrCreate()"
      ],
      "metadata": {
        "id": "nCEw0YQQE_sP"
      },
      "execution_count": 3,
      "outputs": []
    },
    {
      "cell_type": "code",
      "source": [
        "from google.colab import drive\n",
        "drive.mount('/content/drive')"
      ],
      "metadata": {
        "colab": {
          "base_uri": "https://localhost:8080/"
        },
        "id": "Zib2G3MgbCMG",
        "outputId": "6bcece63-cf28-48cf-bc47-2d314b31a51b"
      },
      "execution_count": 5,
      "outputs": [
        {
          "output_type": "stream",
          "name": "stdout",
          "text": [
            "Mounted at /content/drive\n"
          ]
        }
      ]
    },
    {
      "cell_type": "code",
      "source": [
        "df1 = spark.read.csv(\"/content/Producto.csv\", header=True, inferSchema=True)\n",
        "df2 = spark.read.csv(\"/content/detallesProducto.csv\", header=True, inferSchema=True)"
      ],
      "metadata": {
        "id": "0-3PIgBPFown"
      },
      "execution_count": 28,
      "outputs": []
    },
    {
      "cell_type": "code",
      "source": [
        "df1.write.format(\"parquet\").saveAsTable(\"Producto_db\")\n",
        "df2.write.format(\"parquet\").saveAsTable(\"detallesProducto_db\")"
      ],
      "metadata": {
        "id": "2a4xNErWdwnj"
      },
      "execution_count": 30,
      "outputs": []
    },
    {
      "cell_type": "code",
      "source": [
        "results = spark.sql(\"SELECT * FROM Producto_db\")\n",
        "print(results.show())"
      ],
      "metadata": {
        "id": "L-22DxRavaHM",
        "colab": {
          "base_uri": "https://localhost:8080/"
        },
        "outputId": "d8f9f92c-3b52-45ca-a8ee-acd3e2597ab9"
      },
      "execution_count": 37,
      "outputs": [
        {
          "output_type": "stream",
          "name": "stdout",
          "text": [
            "+----------+--------------------+---------------+\n",
            "|IDProducto|            Producto|StockDisponible|\n",
            "+----------+--------------------+---------------+\n",
            "|        11|      Queso Cabrales|             22|\n",
            "|        42|Singaporean Hokki...|             26|\n",
            "|        72|Mozzarella di Gio...|             14|\n",
            "|        14|                Tofu|             35|\n",
            "|        51|Manjimup Dried Ap...|             20|\n",
            "|        41|Jack's New Englan...|             85|\n",
            "|        65|Louisiana Fiery H...|             76|\n",
            "|        22| Gustaf's Kn„ckebr”d|            104|\n",
            "|        57|      Ravioli Angelo|             36|\n",
            "|        20|Sir Rodney's Marm...|             40|\n",
            "|        33|             Geitost|            112|\n",
            "|        60|   Camembert Pierrot|             19|\n",
            "|        31|   Gorgonzola Telino|              0|\n",
            "|        39|    Chartreuse verte|             69|\n",
            "|        49|            Maxilaku|             10|\n",
            "|        24|  Guaran  Fant stica|             20|\n",
            "|        55|        Pƒt‚ chinois|            115|\n",
            "|        74|       Longlife Tofu|              4|\n",
            "|         2|               Chang|             17|\n",
            "|        16|             Pavlova|             29|\n",
            "+----------+--------------------+---------------+\n",
            "only showing top 20 rows\n",
            "\n",
            "None\n"
          ]
        }
      ]
    },
    {
      "cell_type": "code",
      "source": [
        "results = spark.sql(\"SELECT * FROM detallesProducto_db where Pais_Proveedor = 'Germany'\")\n",
        "print(results.show())\n"
      ],
      "metadata": {
        "id": "Bxs3LH7zOeEc",
        "colab": {
          "base_uri": "https://localhost:8080/"
        },
        "outputId": "9f3c3ffe-6ecc-44e9-b7e6-dc67faccee58"
      },
      "execution_count": 38,
      "outputs": [
        {
          "output_type": "stream",
          "name": "stdout",
          "text": [
            "+-----------+------------+----------+--------------------+---------------+-------------+-----------+--------------------+----------------+--------------+------------------+--------+--------------+-------+\n",
            "|CodigoOrden|   Categoria|IDProducto|            Producto|StockDisponible|UnidadesOrden|IDProveedor|           Proveedor|Ciudad_Proveedor|Pais_Proveedor|Telefono_Proveedor|Cantidad|PrecioUnitario|Importe|\n",
            "+-----------+------------+----------+--------------------+---------------+-------------+-----------+--------------------+----------------+--------------+------------------+--------+--------------+-------+\n",
            "|      10294|   Beverages|        75|Rh”nbr„u Klosterbier|            125|            0|         12|Plutzer Lebensmit...|       Frankfurt|       Germany|      (069) 992755|       6|          7.75|   46.5|\n",
            "|      10302|     Produce|        28|   R”ssle Sauerkraut|             26|            0|         12|Plutzer Lebensmit...|       Frankfurt|       Germany|      (069) 992755|      28|          45.6| 1276.8|\n",
            "|      10326|   Beverages|        75|Rh”nbr„u Klosterbier|            125|            0|         12|Plutzer Lebensmit...|       Frankfurt|       Germany|      (069) 992755|      50|          7.75|  387.5|\n",
            "|      10329|     Seafood|        30|Nord-Ost Matjeshe...|             10|            0|         13|Nord-Ost-Fisch Ha...|        Cuxhaven|       Germany|      (04721) 8713|       8|         25.89| 207.12|\n",
            "|      10440|Meat/Poultry|        29|Thringer Rostbra...|              0|            0|         12|Plutzer Lebensmit...|       Frankfurt|       Germany|      (069) 992755|      24|        123.79|2970.96|\n",
            "|      10448| Confections|        26| Gumb„r Gummib„rchen|             15|            0|         11|Heli Sáwaren Gmb...|          Berlin|       Germany|     (010) 9984510|       6|         31.23| 187.38|\n",
            "|      10499|     Produce|        28|   R”ssle Sauerkraut|             26|            0|         12|Plutzer Lebensmit...|       Frankfurt|       Germany|      (069) 992755|      20|          45.6|  912.0|\n",
            "|      10613|   Beverages|        75|Rh”nbr„u Klosterbier|            125|            0|         12|Plutzer Lebensmit...|       Frankfurt|       Germany|      (069) 992755|      40|          7.75|  310.0|\n",
            "|      10624|     Produce|        28|   R”ssle Sauerkraut|             26|            0|         12|Plutzer Lebensmit...|       Frankfurt|       Germany|      (069) 992755|      10|          45.6|  456.0|\n",
            "|      10624|Meat/Poultry|        29|Thringer Rostbra...|              0|            0|         12|Plutzer Lebensmit...|       Frankfurt|       Germany|      (069) 992755|       6|        123.79| 742.74|\n",
            "|      10652|     Seafood|        30|Nord-Ost Matjeshe...|             10|            0|         13|Nord-Ost-Fisch Ha...|        Cuxhaven|       Germany|      (04721) 8713|       2|         25.89|  51.78|\n",
            "|      10688|     Produce|        28|   R”ssle Sauerkraut|             26|            0|         12|Plutzer Lebensmit...|       Frankfurt|       Germany|      (069) 992755|      60|          45.6| 2736.0|\n",
            "|      10728|     Seafood|        30|Nord-Ost Matjeshe...|             10|            0|         13|Nord-Ost-Fisch Ha...|        Cuxhaven|       Germany|      (04721) 8713|      15|         25.89| 388.35|\n",
            "|      10740|     Produce|        28|   R”ssle Sauerkraut|             26|            0|         12|Plutzer Lebensmit...|       Frankfurt|       Germany|      (069) 992755|       5|          45.6|  228.0|\n",
            "|      10801|Meat/Poultry|        29|Thringer Rostbra...|              0|            0|         12|Plutzer Lebensmit...|       Frankfurt|       Germany|      (069) 992755|      20|        123.79| 2475.8|\n",
            "|      10802|     Seafood|        30|Nord-Ost Matjeshe...|             10|            0|         13|Nord-Ost-Fisch Ha...|        Cuxhaven|       Germany|      (04721) 8713|      25|         25.89| 647.25|\n",
            "|      10840| Confections|        25|NuNuCa Nuá-Nougat...|             76|            0|         11|Heli Sáwaren Gmb...|          Berlin|       Germany|     (010) 9984510|       6|          14.0|   84.0|\n",
            "|      10917|     Seafood|        30|Nord-Ost Matjeshe...|             10|            0|         13|Nord-Ost-Fisch Ha...|        Cuxhaven|       Germany|      (04721) 8713|       1|         25.89|  25.89|\n",
            "|      10282|     Seafood|        30|Nord-Ost Matjeshe...|             10|            0|         13|Nord-Ost-Fisch Ha...|        Cuxhaven|       Germany|      (04721) 8713|       6|         25.89| 155.34|\n",
            "|      10284| Confections|        27|  Schoggi Schokolade|             49|            0|         11|Heli Sáwaren Gmb...|          Berlin|       Germany|     (010) 9984510|      15|          43.9|  658.5|\n",
            "+-----------+------------+----------+--------------------+---------------+-------------+-----------+--------------------+----------------+--------------+------------------+--------+--------------+-------+\n",
            "only showing top 20 rows\n",
            "\n",
            "None\n"
          ]
        }
      ]
    },
    {
      "cell_type": "code",
      "source": [
        "results = spark.sql(\"SELECT Producto, PrecioUnitario FROM detallesProducto_db where Pais_Proveedor = 'Germany'\")\n",
        "print(results.show())"
      ],
      "metadata": {
        "id": "si7taQwcRXKd",
        "colab": {
          "base_uri": "https://localhost:8080/"
        },
        "outputId": "d6f1bdce-e7f9-433f-bb77-92fed4551d9a"
      },
      "execution_count": 39,
      "outputs": [
        {
          "output_type": "stream",
          "name": "stdout",
          "text": [
            "+--------------------+--------------+\n",
            "|            Producto|PrecioUnitario|\n",
            "+--------------------+--------------+\n",
            "|Rh”nbr„u Klosterbier|          7.75|\n",
            "|   R”ssle Sauerkraut|          45.6|\n",
            "|Rh”nbr„u Klosterbier|          7.75|\n",
            "|Nord-Ost Matjeshe...|         25.89|\n",
            "|Thringer Rostbra...|        123.79|\n",
            "| Gumb„r Gummib„rchen|         31.23|\n",
            "|   R”ssle Sauerkraut|          45.6|\n",
            "|Rh”nbr„u Klosterbier|          7.75|\n",
            "|   R”ssle Sauerkraut|          45.6|\n",
            "|Thringer Rostbra...|        123.79|\n",
            "|Nord-Ost Matjeshe...|         25.89|\n",
            "|   R”ssle Sauerkraut|          45.6|\n",
            "|Nord-Ost Matjeshe...|         25.89|\n",
            "|   R”ssle Sauerkraut|          45.6|\n",
            "|Thringer Rostbra...|        123.79|\n",
            "|Nord-Ost Matjeshe...|         25.89|\n",
            "|NuNuCa Nuá-Nougat...|          14.0|\n",
            "|Nord-Ost Matjeshe...|         25.89|\n",
            "|Nord-Ost Matjeshe...|         25.89|\n",
            "|  Schoggi Schokolade|          43.9|\n",
            "+--------------------+--------------+\n",
            "only showing top 20 rows\n",
            "\n",
            "None\n"
          ]
        }
      ]
    },
    {
      "cell_type": "code",
      "source": [
        "results = spark.sql(\"SELECT Producto, Importe, Pais_Proveedor FROM detallesProducto_db where Producto = 'Boston Crab Meat'\" )\n",
        "print(results.show())"
      ],
      "metadata": {
        "id": "qBq7stIDUF_w",
        "colab": {
          "base_uri": "https://localhost:8080/"
        },
        "outputId": "3bffc2e1-a0aa-4517-8e2c-07c409706f16"
      },
      "execution_count": 40,
      "outputs": [
        {
          "output_type": "stream",
          "name": "stdout",
          "text": [
            "+----------------+-------+--------------+\n",
            "|        Producto|Importe|Pais_Proveedor|\n",
            "+----------------+-------+--------------+\n",
            "|Boston Crab Meat|  920.0|           USA|\n",
            "|Boston Crab Meat|  368.0|           USA|\n",
            "|Boston Crab Meat|   36.8|           USA|\n",
            "|Boston Crab Meat| 1104.0|           USA|\n",
            "|Boston Crab Meat|  110.4|           USA|\n",
            "|Boston Crab Meat|  920.0|           USA|\n",
            "|Boston Crab Meat|  460.0|           USA|\n",
            "|Boston Crab Meat|  184.0|           USA|\n",
            "|Boston Crab Meat| 1288.0|           USA|\n",
            "|Boston Crab Meat|   18.4|           USA|\n",
            "|Boston Crab Meat|   73.6|           USA|\n",
            "|Boston Crab Meat|  736.0|           USA|\n",
            "|Boston Crab Meat|  368.0|           USA|\n",
            "|Boston Crab Meat|  184.0|           USA|\n",
            "|Boston Crab Meat|  276.0|           USA|\n",
            "|Boston Crab Meat|   92.0|           USA|\n",
            "|Boston Crab Meat| 1104.0|           USA|\n",
            "|Boston Crab Meat|  184.0|           USA|\n",
            "|Boston Crab Meat|  920.0|           USA|\n",
            "|Boston Crab Meat|  368.0|           USA|\n",
            "+----------------+-------+--------------+\n",
            "only showing top 20 rows\n",
            "\n",
            "None\n"
          ]
        }
      ]
    },
    {
      "cell_type": "code",
      "source": [
        "df_join = df2.join(df1, on=\"IDProducto\")\n",
        "print(df_join.show())"
      ],
      "metadata": {
        "id": "D2IUvbilckrE",
        "colab": {
          "base_uri": "https://localhost:8080/"
        },
        "outputId": "fefedc74-0122-4224-81d1-b855e267a39d"
      },
      "execution_count": 41,
      "outputs": [
        {
          "output_type": "stream",
          "name": "stdout",
          "text": [
            "+----------+-----------+--------------+--------------------+---------------+-------------+-----------+--------------------+----------------+--------------+------------------+--------+--------------+-------+--------------------+---------------+\n",
            "|IDProducto|CodigoOrden|     Categoria|            Producto|StockDisponible|UnidadesOrden|IDProveedor|           Proveedor|Ciudad_Proveedor|Pais_Proveedor|Telefono_Proveedor|Cantidad|PrecioUnitario|Importe|            Producto|StockDisponible|\n",
            "+----------+-----------+--------------+--------------------+---------------+-------------+-----------+--------------------+----------------+--------------+------------------+--------+--------------+-------+--------------------+---------------+\n",
            "|        41|      10250|       Seafood|Jack's New Englan...|             85|            0|         19|New England Seafo...|          Boston|           USA|    (617) 555-3267|      10|          9.65|   96.5|Jack's New Englan...|             85|\n",
            "|        51|      10250|       Produce|Manjimup Dried Ap...|             20|            0|         24|         G'day, Mate|          Sydney|     Australia|     (02) 555-5914|      35|          53.0| 1855.0|Manjimup Dried Ap...|             20|\n",
            "|        65|      10250|    Condiments|Louisiana Fiery H...|             76|            0|          2|New Orleans Cajun...|     New Orleans|           USA|    (100) 555-4822|      15|         21.05| 315.75|Louisiana Fiery H...|             76|\n",
            "|        20|      10252|   Confections|Sir Rodney's Marm...|             40|            0|          8|Specialty Biscuit...|      Manchester|            UK|    (161) 555-4448|      40|          81.0| 3240.0|Sir Rodney's Marm...|             40|\n",
            "|        33|      10252|Dairy Products|             Geitost|            112|            0|         15|     Norske Meierier|        Sandvika|        Norway|       (0)2-953010|      25|           2.5|   62.5|             Geitost|            112|\n",
            "|        60|      10252|Dairy Products|   Camembert Pierrot|             19|            0|         28|        Gai pƒturage|          Annecy|        France|       38.76.98.06|      40|          34.0| 1360.0|   Camembert Pierrot|             19|\n",
            "|        35|      10261|     Beverages|      Steeleye Stout|             20|            0|         16|   Bigfoot Breweries|            Bend|           USA|    (503) 555-9931|      20|          18.0|  360.0|      Steeleye Stout|             20|\n",
            "|         1|      10294|     Beverages|                Chai|             39|            0|          1|      Exotic Liquids|          London|            UK|    (171) 555-2222|      18|          18.0|  324.0|                Chai|             39|\n",
            "|        17|      10294|  Meat/Poultry|        Alice Mutton|              0|            0|          7|       Pavlova, Ltd.|       Melbourne|     Australia|     (03) 444-2343|      15|          39.0|  585.0|        Alice Mutton|              0|\n",
            "|        60|      10294|Dairy Products|   Camembert Pierrot|             19|            0|         28|        Gai pƒturage|          Annecy|        France|       38.76.98.06|      21|          34.0|  714.0|   Camembert Pierrot|             19|\n",
            "|        75|      10294|     Beverages|Rh”nbr„u Klosterbier|            125|            0|         12|Plutzer Lebensmit...|       Frankfurt|       Germany|      (069) 992755|       6|          7.75|   46.5|Rh”nbr„u Klosterbier|            125|\n",
            "|        19|      10299|   Confections|Teatime Chocolate...|             25|            0|          8|Specialty Biscuit...|      Manchester|            UK|    (161) 555-4448|      15|           9.2|  138.0|Teatime Chocolate...|             25|\n",
            "|        17|      10302|  Meat/Poultry|        Alice Mutton|              0|            0|          7|       Pavlova, Ltd.|       Melbourne|     Australia|     (03) 444-2343|      40|          39.0| 1560.0|        Alice Mutton|              0|\n",
            "|        28|      10302|       Produce|   R”ssle Sauerkraut|             26|            0|         12|Plutzer Lebensmit...|       Frankfurt|       Germany|      (069) 992755|      28|          45.6| 1276.8|   R”ssle Sauerkraut|             26|\n",
            "|        34|      10315|     Beverages|       Sasquatch Ale|            111|            0|         16|   Bigfoot Breweries|            Bend|           USA|    (503) 555-9931|      14|          14.0|  196.0|       Sasquatch Ale|            111|\n",
            "|         4|      10326|    Condiments|Chef Anton's Caju...|             53|            0|          2|New Orleans Cajun...|     New Orleans|           USA|    (100) 555-4822|      24|          22.0|  528.0|Chef Anton's Caju...|             53|\n",
            "|        57|      10326|Grains/Cereals|      Ravioli Angelo|             36|            0|         26|Pasta Buttini s.r.l.|         Salerno|         Italy|     (089) 6547665|      16|          19.5|  312.0|      Ravioli Angelo|             36|\n",
            "|        75|      10326|     Beverages|Rh”nbr„u Klosterbier|            125|            0|         12|Plutzer Lebensmit...|       Frankfurt|       Germany|      (069) 992755|      50|          7.75|  387.5|Rh”nbr„u Klosterbier|            125|\n",
            "|        19|      10329|   Confections|Teatime Chocolate...|             25|            0|          8|Specialty Biscuit...|      Manchester|            UK|    (161) 555-4448|      10|           9.2|   92.0|Teatime Chocolate...|             25|\n",
            "|        30|      10329|       Seafood|Nord-Ost Matjeshe...|             10|            0|         13|Nord-Ost-Fisch Ha...|        Cuxhaven|       Germany|      (04721) 8713|       8|         25.89| 207.12|Nord-Ost Matjeshe...|             10|\n",
            "+----------+-----------+--------------+--------------------+---------------+-------------+-----------+--------------------+----------------+--------------+------------------+--------+--------------+-------+--------------------+---------------+\n",
            "only showing top 20 rows\n",
            "\n",
            "None\n"
          ]
        }
      ]
    },
    {
      "cell_type": "code",
      "source": [
        "results = spark.sql(\"SELECT Producto_db.Producto, Producto_db.stockDisponible,  SUM(detallesProducto_db.cantidad) AS cantidad_ordenada, detallesProducto_db.IDProveedor,  detallesProducto_db.Proveedor FROM detallesProducto_db JOIN Producto_db ON detallesProducto_db.IDProducto = Producto_db.IDProducto GROUP BY Producto_db.Producto, Producto_db.stockDisponible, detallesProducto_db.IDProveedor, detallesProducto_db.Proveedor\")\n",
        "print(results.show())"
      ],
      "metadata": {
        "id": "N1WqxQdVmoXa",
        "colab": {
          "base_uri": "https://localhost:8080/"
        },
        "outputId": "49d53cb6-d530-4b4a-e5a5-7afc785136d8"
      },
      "execution_count": 42,
      "outputs": [
        {
          "output_type": "stream",
          "name": "stdout",
          "text": [
            "+--------------------+---------------+-----------------+-----------+--------------------+\n",
            "|            Producto|stockDisponible|cantidad_ordenada|IDProveedor|           Proveedor|\n",
            "+--------------------+---------------+-----------------+-----------+--------------------+\n",
            "|      Tarte au sucre|             17|             1083|         29|    Forˆts d'‚rables|\n",
            "|               Chang|             17|             1057|          1|      Exotic Liquids|\n",
            "|Raclette Courdavault|             79|             1496|         28|        Gai pƒturage|\n",
            "|        Lakkalik””ri|             57|              981|         23|           Karkki Oy|\n",
            "|    Carnarvon Tigers|             42|              539|          7|       Pavlova, Ltd.|\n",
            "|Nord-Ost Matjeshe...|             10|              612|         13|Nord-Ost-Fisch Ha...|\n",
            "|           TourtiŠre|             21|              755|         25|           Ma Maison|\n",
            "|    Boston Crab Meat|            123|             1103|         19|New England Seafo...|\n",
            "|  Schoggi Schokolade|             49|              365|         11|Heli Sáwaren Gmb...|\n",
            "|Uncle Bob's Organ...|             15|              763|          3|Grandma Kelly's H...|\n",
            "|      Sirop d'‚rable|            113|              603|         29|    Forˆts d'‚rables|\n",
            "|Rh”nbr„u Klosterbier|            125|             1155|         12|Plutzer Lebensmit...|\n",
            "|Chef Anton's Caju...|             53|              453|          2|New Orleans Cajun...|\n",
            "|           Spegesild|             95|              548|         21|          Lyngbysild|\n",
            "|Chef Anton's Gumb...|              0|              298|          2|New Orleans Cajun...|\n",
            "|            Filo Mix|             38|              500|         24|         G'day, Mate|\n",
            "|               Konbu|             24|              891|          6|            Mayumi's|\n",
            "|Grandma's Boysenb...|            120|              301|          3|Grandma Kelly's H...|\n",
            "|                Tofu|             35|              404|          6|            Mayumi's|\n",
            "|        Alice Mutton|              0|              978|          7|       Pavlova, Ltd.|\n",
            "+--------------------+---------------+-----------------+-----------+--------------------+\n",
            "only showing top 20 rows\n",
            "\n",
            "None\n"
          ]
        }
      ]
    },
    {
      "cell_type": "code",
      "source": [
        "results = spark.sql(\"SELECT Producto_db.Producto, Producto_db.stockDisponible, SUM(detallesProducto_db.cantidad * detallesProducto_db.precioUnitario) AS precio_total, detallesProducto_db.IDProveedor, detallesProducto_db.Proveedor FROM detallesProducto_db JOIN Producto_db ON detallesProducto_db.IDProducto = Producto_db.IDProducto GROUP BY Producto_db.Producto, Producto_db.stockDisponible, detallesProducto_db.IDProveedor, detallesProducto_db.Proveedor\")\n",
        "print(results.show())"
      ],
      "metadata": {
        "id": "_N0hMICU10gk",
        "colab": {
          "base_uri": "https://localhost:8080/"
        },
        "outputId": "94a9d1ce-56e6-4c5e-fcf6-19b8f46c9a21"
      },
      "execution_count": 43,
      "outputs": [
        {
          "output_type": "stream",
          "name": "stdout",
          "text": [
            "+--------------------+---------------+------------------+-----------+--------------------+\n",
            "|            Producto|stockDisponible|      precio_total|IDProveedor|           Proveedor|\n",
            "+--------------------+---------------+------------------+-----------+--------------------+\n",
            "|      Tarte au sucre|             17|           53391.9|         29|    Forˆts d'‚rables|\n",
            "|               Chang|             17|           20083.0|          1|      Exotic Liquids|\n",
            "|Raclette Courdavault|             79|           82280.0|         28|        Gai pƒturage|\n",
            "|        Lakkalik””ri|             57|           17658.0|         23|           Karkki Oy|\n",
            "|    Carnarvon Tigers|             42|           33687.5|          7|       Pavlova, Ltd.|\n",
            "|Nord-Ost Matjeshe...|             10|15844.680000000002|         13|Nord-Ost-Fisch Ha...|\n",
            "|           TourtiŠre|             21|           5624.75|         25|           Ma Maison|\n",
            "|    Boston Crab Meat|            123|           20295.2|         19|New England Seafo...|\n",
            "|  Schoggi Schokolade|             49|           16023.5|         11|Heli Sáwaren Gmb...|\n",
            "|Uncle Bob's Organ...|             15|           22890.0|          3|Grandma Kelly's H...|\n",
            "|      Sirop d'‚rable|            113|           17185.5|         29|    Forˆts d'‚rables|\n",
            "|Rh”nbr„u Klosterbier|            125|           8951.25|         12|Plutzer Lebensmit...|\n",
            "|Chef Anton's Caju...|             53|            9966.0|          2|New Orleans Cajun...|\n",
            "|           Spegesild|             95|            6576.0|         21|          Lyngbysild|\n",
            "|Chef Anton's Gumb...|              0| 6362.299999999999|          2|New Orleans Cajun...|\n",
            "|            Filo Mix|             38|            3500.0|         24|         G'day, Mate|\n",
            "|               Konbu|             24|            5346.0|          6|            Mayumi's|\n",
            "|Grandma's Boysenb...|            120|            7525.0|          3|Grandma Kelly's H...|\n",
            "|                Tofu|             35|            9393.0|          6|            Mayumi's|\n",
            "|        Alice Mutton|              0|           38142.0|          7|       Pavlova, Ltd.|\n",
            "+--------------------+---------------+------------------+-----------+--------------------+\n",
            "only showing top 20 rows\n",
            "\n",
            "None\n"
          ]
        }
      ]
    },
    {
      "cell_type": "code",
      "source": [
        "results = spark.sql(\"SELECT * FROM Producto_db\")\n",
        "print(results.show())\n"
      ],
      "metadata": {
        "colab": {
          "base_uri": "https://localhost:8080/"
        },
        "id": "heLQx2x03W3r",
        "outputId": "3e67feca-3f81-43e9-dcf9-9ebfffe6210f"
      },
      "execution_count": 44,
      "outputs": [
        {
          "output_type": "stream",
          "name": "stdout",
          "text": [
            "+----------+--------------------+---------------+\n",
            "|IDProducto|            Producto|StockDisponible|\n",
            "+----------+--------------------+---------------+\n",
            "|        11|      Queso Cabrales|             22|\n",
            "|        42|Singaporean Hokki...|             26|\n",
            "|        72|Mozzarella di Gio...|             14|\n",
            "|        14|                Tofu|             35|\n",
            "|        51|Manjimup Dried Ap...|             20|\n",
            "|        41|Jack's New Englan...|             85|\n",
            "|        65|Louisiana Fiery H...|             76|\n",
            "|        22| Gustaf's Kn„ckebr”d|            104|\n",
            "|        57|      Ravioli Angelo|             36|\n",
            "|        20|Sir Rodney's Marm...|             40|\n",
            "|        33|             Geitost|            112|\n",
            "|        60|   Camembert Pierrot|             19|\n",
            "|        31|   Gorgonzola Telino|              0|\n",
            "|        39|    Chartreuse verte|             69|\n",
            "|        49|            Maxilaku|             10|\n",
            "|        24|  Guaran  Fant stica|             20|\n",
            "|        55|        Pƒt‚ chinois|            115|\n",
            "|        74|       Longlife Tofu|              4|\n",
            "|         2|               Chang|             17|\n",
            "|        16|             Pavlova|             29|\n",
            "+----------+--------------------+---------------+\n",
            "only showing top 20 rows\n",
            "\n",
            "None\n"
          ]
        }
      ]
    },
    {
      "cell_type": "code",
      "source": [
        "df1 = df1.withColumnRenamed(\"Producto\", \"Nombre\")\n",
        "df1.show()"
      ],
      "metadata": {
        "id": "h7-uGFpM3ybp",
        "colab": {
          "base_uri": "https://localhost:8080/"
        },
        "outputId": "ad52b1ff-9425-4f0f-c35f-5635ded797e0"
      },
      "execution_count": 45,
      "outputs": [
        {
          "output_type": "stream",
          "name": "stdout",
          "text": [
            "+----------+--------------------+---------------+\n",
            "|IDProducto|              Nombre|StockDisponible|\n",
            "+----------+--------------------+---------------+\n",
            "|        11|      Queso Cabrales|             22|\n",
            "|        42|Singaporean Hokki...|             26|\n",
            "|        72|Mozzarella di Gio...|             14|\n",
            "|        14|                Tofu|             35|\n",
            "|        51|Manjimup Dried Ap...|             20|\n",
            "|        41|Jack's New Englan...|             85|\n",
            "|        65|Louisiana Fiery H...|             76|\n",
            "|        22| Gustaf's Kn„ckebr”d|            104|\n",
            "|        57|      Ravioli Angelo|             36|\n",
            "|        20|Sir Rodney's Marm...|             40|\n",
            "|        33|             Geitost|            112|\n",
            "|        60|   Camembert Pierrot|             19|\n",
            "|        31|   Gorgonzola Telino|              0|\n",
            "|        39|    Chartreuse verte|             69|\n",
            "|        49|            Maxilaku|             10|\n",
            "|        24|  Guaran  Fant stica|             20|\n",
            "|        55|        Pƒt‚ chinois|            115|\n",
            "|        74|       Longlife Tofu|              4|\n",
            "|         2|               Chang|             17|\n",
            "|        16|             Pavlova|             29|\n",
            "+----------+--------------------+---------------+\n",
            "only showing top 20 rows\n",
            "\n"
          ]
        }
      ]
    },
    {
      "cell_type": "code",
      "source": [
        "df1 = df1.withColumnRenamed(\"Nombre\", \"Producto\")\n",
        "df1.show()"
      ],
      "metadata": {
        "colab": {
          "base_uri": "https://localhost:8080/"
        },
        "id": "6eWJHzPm4bat",
        "outputId": "9add6b1b-cf1e-4f5f-cf44-7fdb97952045"
      },
      "execution_count": 46,
      "outputs": [
        {
          "output_type": "stream",
          "name": "stdout",
          "text": [
            "+----------+--------------------+---------------+\n",
            "|IDProducto|            Producto|StockDisponible|\n",
            "+----------+--------------------+---------------+\n",
            "|        11|      Queso Cabrales|             22|\n",
            "|        42|Singaporean Hokki...|             26|\n",
            "|        72|Mozzarella di Gio...|             14|\n",
            "|        14|                Tofu|             35|\n",
            "|        51|Manjimup Dried Ap...|             20|\n",
            "|        41|Jack's New Englan...|             85|\n",
            "|        65|Louisiana Fiery H...|             76|\n",
            "|        22| Gustaf's Kn„ckebr”d|            104|\n",
            "|        57|      Ravioli Angelo|             36|\n",
            "|        20|Sir Rodney's Marm...|             40|\n",
            "|        33|             Geitost|            112|\n",
            "|        60|   Camembert Pierrot|             19|\n",
            "|        31|   Gorgonzola Telino|              0|\n",
            "|        39|    Chartreuse verte|             69|\n",
            "|        49|            Maxilaku|             10|\n",
            "|        24|  Guaran  Fant stica|             20|\n",
            "|        55|        Pƒt‚ chinois|            115|\n",
            "|        74|       Longlife Tofu|              4|\n",
            "|         2|               Chang|             17|\n",
            "|        16|             Pavlova|             29|\n",
            "+----------+--------------------+---------------+\n",
            "only showing top 20 rows\n",
            "\n"
          ]
        }
      ]
    }
  ]
}